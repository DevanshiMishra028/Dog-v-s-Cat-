{
 "cells": [
  {
   "cell_type": "code",
   "execution_count": 4,
   "metadata": {},
   "outputs": [],
   "source": [
    "import tensorflow as tf\n",
    "from tensorflow.keras.preprocessing.image import ImageDataGenerator"
   ]
  },
  {
   "cell_type": "code",
   "execution_count": 9,
   "metadata": {},
   "outputs": [
    {
     "name": "stdout",
     "output_type": "stream",
     "text": [
      "Found 8000 images belonging to 2 classes.\n"
     ]
    }
   ],
   "source": [
    "data_gen_train=ImageDataGenerator(rescale=1./255,zoom_range=0.2,shear_range=0.2,horizontal_flip=True)\n",
    "train_set=data_gen_train.flow_from_directory('Dataset/train',target_size=(64,64),batch_size=32,class_mode='binary')"
   ]
  },
  {
   "cell_type": "code",
   "execution_count": 11,
   "metadata": {},
   "outputs": [
    {
     "name": "stdout",
     "output_type": "stream",
     "text": [
      "Found 2000 images belonging to 2 classes.\n"
     ]
    }
   ],
   "source": [
    "data_gen_test=ImageDataGenerator(rescale=1./255)\n",
    "test_set=data_gen_test.flow_from_directory('Dataset/test',batch_size=32,target_size=(64,64),class_mode='binary')"
   ]
  },
  {
   "cell_type": "code",
   "execution_count": 14,
   "metadata": {},
   "outputs": [],
   "source": [
    "from tensorflow.keras.models import Sequential\n",
    "from tensorflow.keras.layers import Dense,Conv2D,MaxPool2D,Flatten"
   ]
  },
  {
   "cell_type": "code",
   "execution_count": 18,
   "metadata": {},
   "outputs": [],
   "source": [
    "cnn=Sequential()\n",
    "cnn.add(Conv2D(filters=32,kernel_size=3,activation='relu',padding=\"same\",input_shape=[64,64,3]))\n",
    "cnn.add(MaxPool2D(pool_size=2,strides=2))\n",
    "cnn.add(Conv2D(filters=32,kernel_size=3,activation='relu',padding=\"same\",input_shape=[64,64,3]))\n",
    "cnn.add(MaxPool2D(pool_size=2,strides=2))\n",
    "cnn.add(Flatten())\n",
    "cnn.add(Dense(units=128,kernel_initializer='he_uniform',activation='relu'))\n",
    "cnn.add(Dense(units=50,kernel_initializer='he_uniform',activation='relu'))\n",
    "cnn.add(Dense(units=1,kernel_initializer='glorot_uniform',activation='sigmoid'))"
   ]
  },
  {
   "cell_type": "code",
   "execution_count": 19,
   "metadata": {},
   "outputs": [],
   "source": [
    "cnn.compile(loss=\"binary_crossentropy\",optimizer=\"adam\",metrics=[\"accuracy\"])"
   ]
  },
  {
   "cell_type": "code",
   "execution_count": 20,
   "metadata": {},
   "outputs": [
    {
     "name": "stdout",
     "output_type": "stream",
     "text": [
      "Epoch 1/10\n",
      "250/250 [==============================] - 593s 2s/step - loss: 0.6452 - accuracy: 0.6202 - val_loss: 0.6263 - val_accuracy: 0.6470\n",
      "Epoch 2/10\n",
      "250/250 [==============================] - 719s 3s/step - loss: 0.5775 - accuracy: 0.6957 - val_loss: 0.5549 - val_accuracy: 0.7240\n",
      "Epoch 3/10\n",
      "250/250 [==============================] - 676s 3s/step - loss: 0.5364 - accuracy: 0.7286 - val_loss: 0.5198 - val_accuracy: 0.7475\n",
      "Epoch 4/10\n",
      "250/250 [==============================] - 722s 3s/step - loss: 0.5159 - accuracy: 0.7464 - val_loss: 0.5563 - val_accuracy: 0.7220\n",
      "Epoch 5/10\n",
      "250/250 [==============================] - 710s 3s/step - loss: 0.4867 - accuracy: 0.7635 - val_loss: 0.5356 - val_accuracy: 0.7515\n",
      "Epoch 6/10\n",
      "250/250 [==============================] - 579s 2s/step - loss: 0.4639 - accuracy: 0.7816 - val_loss: 0.4865 - val_accuracy: 0.7790\n",
      "Epoch 7/10\n",
      "250/250 [==============================] - 411s 2s/step - loss: 0.4526 - accuracy: 0.7849 - val_loss: 0.4652 - val_accuracy: 0.7810\n",
      "Epoch 8/10\n",
      "250/250 [==============================] - 430s 2s/step - loss: 0.4422 - accuracy: 0.7912 - val_loss: 0.4668 - val_accuracy: 0.7775\n",
      "Epoch 9/10\n",
      "250/250 [==============================] - 453s 2s/step - loss: 0.4303 - accuracy: 0.7987 - val_loss: 0.4484 - val_accuracy: 0.7900\n",
      "Epoch 10/10\n",
      "250/250 [==============================] - 431s 2s/step - loss: 0.4141 - accuracy: 0.8064 - val_loss: 0.4553 - val_accuracy: 0.7920\n"
     ]
    },
    {
     "data": {
      "text/plain": [
       "<tensorflow.python.keras.callbacks.History at 0x1ab8c602a90>"
      ]
     },
     "execution_count": 20,
     "metadata": {},
     "output_type": "execute_result"
    }
   ],
   "source": [
    "cnn.fit(x=train_set,validation_data=test_set,epochs=10)"
   ]
  },
  {
   "cell_type": "code",
   "execution_count": 21,
   "metadata": {},
   "outputs": [
    {
     "name": "stdout",
     "output_type": "stream",
     "text": [
      "Model: \"sequential_3\"\n",
      "_________________________________________________________________\n",
      "Layer (type)                 Output Shape              Param #   \n",
      "=================================================================\n",
      "conv2d_3 (Conv2D)            (None, 64, 64, 32)        896       \n",
      "_________________________________________________________________\n",
      "max_pooling2d (MaxPooling2D) (None, 32, 32, 32)        0         \n",
      "_________________________________________________________________\n",
      "conv2d_4 (Conv2D)            (None, 32, 32, 32)        9248      \n",
      "_________________________________________________________________\n",
      "max_pooling2d_1 (MaxPooling2 (None, 16, 16, 32)        0         \n",
      "_________________________________________________________________\n",
      "flatten (Flatten)            (None, 8192)              0         \n",
      "_________________________________________________________________\n",
      "dense (Dense)                (None, 128)               1048704   \n",
      "_________________________________________________________________\n",
      "dense_1 (Dense)              (None, 50)                6450      \n",
      "_________________________________________________________________\n",
      "dense_2 (Dense)              (None, 1)                 51        \n",
      "=================================================================\n",
      "Total params: 1,065,349\n",
      "Trainable params: 1,065,349\n",
      "Non-trainable params: 0\n",
      "_________________________________________________________________\n"
     ]
    }
   ],
   "source": [
    "cnn.summary()\n",
    " "
   ]
  },
  {
   "cell_type": "code",
   "execution_count": 22,
   "metadata": {},
   "outputs": [
    {
     "name": "stdout",
     "output_type": "stream",
     "text": [
      "63/63 [==============================] - 28s 446ms/step - loss: 0.4553 - accuracy: 0.7920\n"
     ]
    },
    {
     "data": {
      "text/plain": [
       "[0.45526713132858276, 0.7919999957084656]"
      ]
     },
     "execution_count": 22,
     "metadata": {},
     "output_type": "execute_result"
    }
   ],
   "source": [
    "cnn.evaluate(test_set)"
   ]
  },
  {
   "cell_type": "code",
   "execution_count": 26,
   "metadata": {},
   "outputs": [],
   "source": [
    "from tensorflow.keras.models import load_model\n",
    "cnn.save(\"Model-dog-cat.h5\")"
   ]
  },
  {
   "cell_type": "code",
   "execution_count": 31,
   "metadata": {},
   "outputs": [],
   "source": [
    "model=load_model(\"Model-dog-cat.h5\")"
   ]
  },
  {
   "cell_type": "code",
   "execution_count": 38,
   "metadata": {},
   "outputs": [
    {
     "name": "stdout",
     "output_type": "stream",
     "text": [
      "Model: \"sequential_3\"\n",
      "_________________________________________________________________\n",
      "Layer (type)                 Output Shape              Param #   \n",
      "=================================================================\n",
      "conv2d_3 (Conv2D)            (None, 64, 64, 32)        896       \n",
      "_________________________________________________________________\n",
      "max_pooling2d (MaxPooling2D) (None, 32, 32, 32)        0         \n",
      "_________________________________________________________________\n",
      "conv2d_4 (Conv2D)            (None, 32, 32, 32)        9248      \n",
      "_________________________________________________________________\n",
      "max_pooling2d_1 (MaxPooling2 (None, 16, 16, 32)        0         \n",
      "_________________________________________________________________\n",
      "flatten (Flatten)            (None, 8192)              0         \n",
      "_________________________________________________________________\n",
      "dense (Dense)                (None, 128)               1048704   \n",
      "_________________________________________________________________\n",
      "dense_1 (Dense)              (None, 50)                6450      \n",
      "_________________________________________________________________\n",
      "dense_2 (Dense)              (None, 1)                 51        \n",
      "=================================================================\n",
      "Total params: 1,065,349\n",
      "Trainable params: 1,065,349\n",
      "Non-trainable params: 0\n",
      "_________________________________________________________________\n"
     ]
    }
   ],
   "source": [
    "model.summary()"
   ]
  },
  {
   "cell_type": "markdown",
   "metadata": {},
   "source": [
    "## Testing the model by giving different individual inputs"
   ]
  },
  {
   "cell_type": "code",
   "execution_count": 77,
   "metadata": {},
   "outputs": [],
   "source": [
    "def outcome(folder,name,num):\n",
    "    from tensorflow.keras.preprocessing import image\n",
    "    import numpy as np\n",
    "    test_img=image.load_img(f\"Dataset/test/{folder}/{name}.{num}.jpg\",target_size=(64,64))\n",
    "    test_img=image.img_to_array(test_img)\n",
    "    test_img=test_img/255\n",
    "    test_img=np.expand_dims(test_img,axis=0)\n",
    "    result=model.predict(test_img)\n",
    "    if result>0.5:\n",
    "         print(\"The given image is of a dog\")\n",
    "    else:\n",
    "        print(\"The given image is of a cat\")"
   ]
  },
  {
   "cell_type": "code",
   "execution_count": 80,
   "metadata": {},
   "outputs": [
    {
     "name": "stdout",
     "output_type": "stream",
     "text": [
      "The given image is of a cat\n"
     ]
    }
   ],
   "source": [
    "outcome(\"cats\",\"cat\",\"4005\")"
   ]
  },
  {
   "cell_type": "code",
   "execution_count": 81,
   "metadata": {},
   "outputs": [
    {
     "name": "stdout",
     "output_type": "stream",
     "text": [
      "The given image is of a dog\n"
     ]
    }
   ],
   "source": [
    "outcome(\"dogs\",\"dog\",\"4008\")"
   ]
  }
 ],
 "metadata": {
  "kernelspec": {
   "display_name": "Python 3",
   "language": "python",
   "name": "python3"
  },
  "language_info": {
   "codemirror_mode": {
    "name": "ipython",
    "version": 3
   },
   "file_extension": ".py",
   "mimetype": "text/x-python",
   "name": "python",
   "nbconvert_exporter": "python",
   "pygments_lexer": "ipython3",
   "version": "3.8.5"
  }
 },
 "nbformat": 4,
 "nbformat_minor": 4
}
